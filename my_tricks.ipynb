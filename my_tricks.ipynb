{
 "cells": [
  {
   "cell_type": "markdown",
   "metadata": {},
   "source": [
    "### 命令行调用程序中的函数"
   ]
  },
  {
   "cell_type": "code",
   "execution_count": 20,
   "metadata": {},
   "outputs": [],
   "source": [
    "test_arg = '''\n",
    "import sys\n",
    "\n",
    "def praise(sb):\n",
    "\tprint(f\"{sb} is awesome!\")\n",
    "\n",
    "this_module = sys.modules[__name__]\n",
    "getattr(this_module, sys.argv[1])(*sys.argv[2:])\n",
    "'''\n",
    "with open(\"test_arg.py\", \"w\") as writer: writer.write(test_arg)"
   ]
  },
  {
   "cell_type": "markdown",
   "metadata": {},
   "source": [
    "`sys.modules[__name__]`获取当前程序的对象，`get_attr()`获取程序中的方法或变量，所以`sys.argv[1]`存储要调用的函数，而后面加括号是调用这个函数，`sys.argv[2:]`是这个函数的参数"
   ]
  },
  {
   "cell_type": "code",
   "execution_count": 22,
   "metadata": {},
   "outputs": [
    {
     "name": "stdout",
     "output_type": "stream",
     "text": [
      "python is awesome!\r\n"
     ]
    }
   ],
   "source": [
    "! python test_arg.py praise python"
   ]
  },
  {
   "cell_type": "markdown",
   "metadata": {},
   "source": [
    "### 神奇的列表展平方式"
   ]
  },
  {
   "cell_type": "code",
   "execution_count": 29,
   "metadata": {},
   "outputs": [
    {
     "data": {
      "text/plain": [
       "[1, 2, 3, 4, 5, 6]"
      ]
     },
     "execution_count": 29,
     "metadata": {},
     "output_type": "execute_result"
    }
   ],
   "source": [
    "x = [[1, 2, 3], [4, 5], [6]]\n",
    "sum(x, [])"
   ]
  },
  {
   "cell_type": "markdown",
   "metadata": {},
   "source": [
    "但是注意这里只允许列表是标准的单层嵌套，也就是说每个元素都必须是列表，该方法只能展开一层"
   ]
  },
  {
   "cell_type": "code",
   "execution_count": 35,
   "metadata": {},
   "outputs": [
    {
     "data": {
      "text/plain": [
       "array([1, 2, 3, 4, 4, 5, 6, 7])"
      ]
     },
     "execution_count": 35,
     "metadata": {},
     "output_type": "execute_result"
    }
   ],
   "source": [
    "import numpy as np\n",
    "x = np.array([[[1, 2], [3, 4]], [[4, 5], [6, 7]]])\n",
    "x.flatten()"
   ]
  },
  {
   "cell_type": "markdown",
   "metadata": {},
   "source": [
    "注意这里的numpy展平方式更加局限，它要求各元素维度相同，但它可以全部展开，而以上的sum方法只能展开一层"
   ]
  }
 ],
 "metadata": {
  "kernelspec": {
   "display_name": "Python 3",
   "language": "python",
   "name": "python3"
  },
  "language_info": {
   "codemirror_mode": {
    "name": "ipython",
    "version": 3
   },
   "file_extension": ".py",
   "mimetype": "text/x-python",
   "name": "python",
   "nbconvert_exporter": "python",
   "pygments_lexer": "ipython3",
   "version": "3.8.3"
  }
 },
 "nbformat": 4,
 "nbformat_minor": 4
}
